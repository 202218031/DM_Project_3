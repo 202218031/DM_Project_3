{
  "nbformat": 4,
  "nbformat_minor": 0,
  "metadata": {
    "colab": {
      "provenance": [],
      "authorship_tag": "ABX9TyOBE6XXUjHQpH7vlQwCtG/6"
    },
    "kernelspec": {
      "name": "python3",
      "display_name": "Python 3"
    },
    "language_info": {
      "name": "python"
    }
  },
  "cells": [
    {
      "cell_type": "code",
      "execution_count": null,
      "metadata": {
        "colab": {
          "base_uri": "https://localhost:8080/"
        },
        "id": "3IkUg_m7pQXr",
        "outputId": "7524b160-2aef-486e-ffee-da11d613c292"
      },
      "outputs": [
        {
          "output_type": "stream",
          "name": "stdout",
          "text": [
            "    Team_ranking     Team_name  Rating\n",
            "0              1         India     121\n",
            "1              2     Australia     115\n",
            "2              3  South Africa     112\n",
            "3              4      Pakistan     109\n",
            "4              5   New Zealand     103\n",
            "5              6       England      99\n",
            "6              7     Sri Lanka      88\n",
            "7              8    Bangladesh      87\n",
            "8              9   Afghanistan      84\n",
            "9             10   West Indies      68\n",
            "10            11      Zimbabwe      55\n",
            "11            12      Scotland      50\n",
            "12            13       Ireland      43\n",
            "13            14   Netherlands      41\n",
            "14            15         Nepal      34\n",
            "15            16       Namibia      29\n",
            "16            17           USA      26\n",
            "17            18          Oman      22\n",
            "18            19           UAE      15\n"
          ]
        }
      ],
      "source": [
        "import pandas as pd\n",
        "\n",
        "url = 'https://www.espncricinfo.com/rankings/content/page/211271.html'\n",
        "\n",
        "all_tables = pd.read_html(url)\n",
        "\n",
        "ICC_rankings_df = all_tables[1][['Pos','Team','Rating']]\n",
        "ICC_rankings_df.columns = ['Team_ranking', 'Team_name', 'Rating']\n",
        "\n",
        "print(ICC_rankings_df)"
      ]
    },
    {
      "cell_type": "code",
      "source": [
        "desired_teams = ['India', 'New Zealand', 'England', 'Sri Lanka', 'Australia', 'Pakistan', 'Netherlands', 'South Africa', 'Bangladesh', 'Afghanistan']\n",
        "\n",
        "filtered_df = ICC_rankings_df[ICC_rankings_df['Team_name'].isin(desired_teams)]\n",
        "\n",
        "print(filtered_df)"
      ],
      "metadata": {
        "colab": {
          "base_uri": "https://localhost:8080/"
        },
        "id": "jlfCJYyKskZI",
        "outputId": "08da63f9-0740-4479-9f0e-64e1ea81d93e"
      },
      "execution_count": null,
      "outputs": [
        {
          "output_type": "stream",
          "name": "stdout",
          "text": [
            "    Team_ranking     Team_name  Rating\n",
            "0              1         India     121\n",
            "1              2     Australia     115\n",
            "2              3  South Africa     112\n",
            "3              4      Pakistan     109\n",
            "4              5   New Zealand     103\n",
            "5              6       England      99\n",
            "6              7     Sri Lanka      88\n",
            "7              8    Bangladesh      87\n",
            "8              9   Afghanistan      84\n",
            "13            14   Netherlands      41\n"
          ]
        }
      ]
    },
    {
      "cell_type": "code",
      "source": [
        "filtered_df.to_csv(\"ICC_rankings.csv\")"
      ],
      "metadata": {
        "id": "zjqFTLKhtJFX"
      },
      "execution_count": null,
      "outputs": []
    }
  ]
}